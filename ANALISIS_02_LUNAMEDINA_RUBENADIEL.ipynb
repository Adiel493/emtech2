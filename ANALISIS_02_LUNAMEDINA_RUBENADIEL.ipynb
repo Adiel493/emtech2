{
 "cells": [
  {
   "cell_type": "markdown",
   "id": "16e4f96a",
   "metadata": {},
   "source": [
    "# Proyecto 2 _ Synergy Logistics"
   ]
  },
  {
   "cell_type": "markdown",
   "id": "80e1a04d",
   "metadata": {},
   "source": [
    "Importación de librería pandas y sesborn así como la declaración de variables clave"
   ]
  },
  {
   "cell_type": "code",
   "execution_count": 37,
   "id": "f2e17105",
   "metadata": {},
   "outputs": [],
   "source": [
    "import pandas as pd\n",
    "import seaborn as sb\n",
    "\n",
    "sldb = pd.read_csv('synergy_logistics_database.csv') #csv\n",
    "exports = sldb[sldb['direction']=='Exports'] #exportaciones\n",
    "imports = sldb[sldb['direction']=='Imports'] #importaciones"
   ]
  },
  {
   "cell_type": "markdown",
   "id": "0be863cf",
   "metadata": {},
   "source": [
    "## 1. Rutas de importación y exportación"
   ]
  },
  {
   "cell_type": "markdown",
   "id": "3bc12a67",
   "metadata": {},
   "source": [
    "Función score para determinar la contribución de la ruta considerando el valor total que aporta y las veces que se utiliza.\n",
    "Para esto primero se ajusta la escala de los valores para que se pueda tomar ambos parametros como iguales, es decir que en el score tengan el mismo peso, utilizando el método de normalización de min-max."
   ]
  },
  {
   "cell_type": "code",
   "execution_count": 38,
   "id": "ed4ba60f",
   "metadata": {},
   "outputs": [],
   "source": [
    "def score(df, minc, maxc, mins, maxs):\n",
    "    scaled_count = (df.count()['total_value']-minc)/(maxc-minc) #normalizacion del conteo\n",
    "    scaled_value = (df.sum()['total_value']-mins)/(maxs-mins) #normalización de la suma de total_value\n",
    "    sc = (scaled_count*.5 + scaled_value*.5) #calculo de score considerando el número de transacciones y el valor total como .5 cada uno\n",
    "    return '{:,.2%}'.format(sc)"
   ]
  },
  {
   "cell_type": "markdown",
   "id": "53ecfa1d",
   "metadata": {},
   "source": [
    "### Top 10 rutas de importación"
   ]
  },
  {
   "cell_type": "code",
   "execution_count": 39,
   "id": "89e2f8de",
   "metadata": {},
   "outputs": [],
   "source": [
    "routes_imports = imports.groupby(['origin','destination','transport_mode'])\n",
    "min_count = routes_imports.count()['total_value'].min() #valor mínimo en el conteo de transacciones\n",
    "max_count = routes_imports.count()['total_value'].max() #valor máximo en el conteo de transacciones\n",
    "min_sum = routes_imports.sum()['total_value'].min() #valor mínimo de valor_total\n",
    "max_sum = routes_imports.sum()['total_value'].max() #valor máximo de valor_total\n",
    "    \n",
    "\n",
    "#Se crea un dataframe con la columna de score, aunado a las columnas de routes_imports\n",
    "top_imports = pd.DataFrame(routes_imports.apply(lambda x: score(x,min_count,max_count,min_sum,max_sum)).reset_index(name = \"score\"))\n",
    "#Se agrega la columna que tiene la suma acumulada de los valores de total_value\n",
    "top_imports = top_imports.join((routes_imports.sum()['total_value'].reset_index())['total_value'])\n",
    "#Se agrega la columna que tiene la cantidad de importaciones realizadas \n",
    "top_imports = top_imports.join((routes_imports.count()['total_value'].reset_index()).rename(columns={'total_value':'number_imports'})['number_imports'])\n",
    "#Se corta el dataframe para que tenga los 10 elementos con mayor score\n",
    "top_imports = top_imports.sort_values(by='score' ,ascending=False,  key=lambda val: val.str.replace('%', '').astype('float64')).head(10)"
   ]
  },
  {
   "cell_type": "code",
   "execution_count": 40,
   "id": "456ea8ce",
   "metadata": {},
   "outputs": [
    {
     "data": {
      "text/html": [
       "<div>\n",
       "<style scoped>\n",
       "    .dataframe tbody tr th:only-of-type {\n",
       "        vertical-align: middle;\n",
       "    }\n",
       "\n",
       "    .dataframe tbody tr th {\n",
       "        vertical-align: top;\n",
       "    }\n",
       "\n",
       "    .dataframe thead th {\n",
       "        text-align: right;\n",
       "    }\n",
       "</style>\n",
       "<table border=\"1\" class=\"dataframe\">\n",
       "  <thead>\n",
       "    <tr style=\"text-align: right;\">\n",
       "      <th></th>\n",
       "      <th>origin</th>\n",
       "      <th>destination</th>\n",
       "      <th>transport_mode</th>\n",
       "      <th>score</th>\n",
       "      <th>total_value</th>\n",
       "      <th>number_imports</th>\n",
       "    </tr>\n",
       "  </thead>\n",
       "  <tbody>\n",
       "    <tr>\n",
       "      <th>35</th>\n",
       "      <td>Singapore</td>\n",
       "      <td>Thailand</td>\n",
       "      <td>Sea</td>\n",
       "      <td>100.00%</td>\n",
       "      <td>4017000000</td>\n",
       "      <td>273</td>\n",
       "    </tr>\n",
       "    <tr>\n",
       "      <th>21</th>\n",
       "      <td>Japan</td>\n",
       "      <td>Mexico</td>\n",
       "      <td>Sea</td>\n",
       "      <td>86.29%</td>\n",
       "      <td>3918000000</td>\n",
       "      <td>206</td>\n",
       "    </tr>\n",
       "    <tr>\n",
       "      <th>27</th>\n",
       "      <td>Malaysia</td>\n",
       "      <td>Thailand</td>\n",
       "      <td>Rail</td>\n",
       "      <td>78.71%</td>\n",
       "      <td>3482000000</td>\n",
       "      <td>195</td>\n",
       "    </tr>\n",
       "    <tr>\n",
       "      <th>4</th>\n",
       "      <td>China</td>\n",
       "      <td>Japan</td>\n",
       "      <td>Air</td>\n",
       "      <td>78.39%</td>\n",
       "      <td>3237000000</td>\n",
       "      <td>210</td>\n",
       "    </tr>\n",
       "    <tr>\n",
       "      <th>10</th>\n",
       "      <td>China</td>\n",
       "      <td>United Arab Emirates</td>\n",
       "      <td>Sea</td>\n",
       "      <td>62.07%</td>\n",
       "      <td>3357000000</td>\n",
       "      <td>114</td>\n",
       "    </tr>\n",
       "    <tr>\n",
       "      <th>8</th>\n",
       "      <td>China</td>\n",
       "      <td>Thailand</td>\n",
       "      <td>Road</td>\n",
       "      <td>60.59%</td>\n",
       "      <td>2786000000</td>\n",
       "      <td>145</td>\n",
       "    </tr>\n",
       "    <tr>\n",
       "      <th>13</th>\n",
       "      <td>Germany</td>\n",
       "      <td>China</td>\n",
       "      <td>Sea</td>\n",
       "      <td>58.45%</td>\n",
       "      <td>1328000000</td>\n",
       "      <td>233</td>\n",
       "    </tr>\n",
       "    <tr>\n",
       "      <th>40</th>\n",
       "      <td>Spain</td>\n",
       "      <td>Germany</td>\n",
       "      <td>Road</td>\n",
       "      <td>50.62%</td>\n",
       "      <td>2044000000</td>\n",
       "      <td>142</td>\n",
       "    </tr>\n",
       "    <tr>\n",
       "      <th>32</th>\n",
       "      <td>Mexico</td>\n",
       "      <td>USA</td>\n",
       "      <td>Rail</td>\n",
       "      <td>41.71%</td>\n",
       "      <td>2060000000</td>\n",
       "      <td>93</td>\n",
       "    </tr>\n",
       "    <tr>\n",
       "      <th>25</th>\n",
       "      <td>Japan</td>\n",
       "      <td>United Arab Emirates</td>\n",
       "      <td>Sea</td>\n",
       "      <td>40.81%</td>\n",
       "      <td>2238000000</td>\n",
       "      <td>76</td>\n",
       "    </tr>\n",
       "  </tbody>\n",
       "</table>\n",
       "</div>"
      ],
      "text/plain": [
       "       origin           destination transport_mode    score  total_value  \\\n",
       "35  Singapore              Thailand            Sea  100.00%   4017000000   \n",
       "21      Japan                Mexico            Sea   86.29%   3918000000   \n",
       "27   Malaysia              Thailand           Rail   78.71%   3482000000   \n",
       "4       China                 Japan            Air   78.39%   3237000000   \n",
       "10      China  United Arab Emirates            Sea   62.07%   3357000000   \n",
       "8       China              Thailand           Road   60.59%   2786000000   \n",
       "13    Germany                 China            Sea   58.45%   1328000000   \n",
       "40      Spain               Germany           Road   50.62%   2044000000   \n",
       "32     Mexico                   USA           Rail   41.71%   2060000000   \n",
       "25      Japan  United Arab Emirates            Sea   40.81%   2238000000   \n",
       "\n",
       "    number_imports  \n",
       "35             273  \n",
       "21             206  \n",
       "27             195  \n",
       "4              210  \n",
       "10             114  \n",
       "8              145  \n",
       "13             233  \n",
       "40             142  \n",
       "32              93  \n",
       "25              76  "
      ]
     },
     "execution_count": 40,
     "metadata": {},
     "output_type": "execute_result"
    }
   ],
   "source": [
    "top_imports"
   ]
  },
  {
   "cell_type": "markdown",
   "id": "ace31568",
   "metadata": {},
   "source": [
    "### Top 10 rutas de exportación"
   ]
  },
  {
   "cell_type": "code",
   "execution_count": 41,
   "id": "014de632",
   "metadata": {},
   "outputs": [],
   "source": [
    "routes_exports = exports.groupby(['origin','destination','transport_mode'])\n",
    "min_count = routes_exports.count()['total_value'].min() #valor mínimo en el conteo de transacciones\n",
    "max_count = routes_exports.count()['total_value'].max() #valor máximo en el conteo de transacciones\n",
    "min_sum = routes_exports.sum()['total_value'].min() #valor mínimo de valor_total\n",
    "max_sum = routes_exports.sum()['total_value'].max() #valor máximo de valor_total\n",
    "    \n",
    "#Se crea un dataframe con la columna de score, aunado a las columnas de routes_exports\n",
    "top_exports = pd.DataFrame(routes_exports.apply(lambda x: score(x,min_count,max_count,min_sum,max_sum)).reset_index(name = \"score\"))\n",
    "#Se agrega la columna que tiene la suma acumulada de los valores de total_value\n",
    "top_exports = top_exports.join((routes_exports.sum()['total_value'].reset_index())['total_value'])\n",
    "#Se agrega la columna que tiene la cantidad de importaciones realizadas \n",
    "top_exports = top_exports.join((routes_exports.count()['total_value'].reset_index()).rename(columns={'total_value':'number_exports'})['number_exports'])\n",
    "#Se corta el dataframe para que tenga los 10 elementos con mayor score\n",
    "top_exports = top_exports.sort_values(by='score' ,ascending=False,  key=lambda val: val.str.replace('%', '').astype('float64')).head(10)"
   ]
  },
  {
   "cell_type": "code",
   "execution_count": 42,
   "id": "0f46cb94",
   "metadata": {},
   "outputs": [
    {
     "data": {
      "text/html": [
       "<div>\n",
       "<style scoped>\n",
       "    .dataframe tbody tr th:only-of-type {\n",
       "        vertical-align: middle;\n",
       "    }\n",
       "\n",
       "    .dataframe tbody tr th {\n",
       "        vertical-align: top;\n",
       "    }\n",
       "\n",
       "    .dataframe thead th {\n",
       "        text-align: right;\n",
       "    }\n",
       "</style>\n",
       "<table border=\"1\" class=\"dataframe\">\n",
       "  <thead>\n",
       "    <tr style=\"text-align: right;\">\n",
       "      <th></th>\n",
       "      <th>origin</th>\n",
       "      <th>destination</th>\n",
       "      <th>transport_mode</th>\n",
       "      <th>score</th>\n",
       "      <th>total_value</th>\n",
       "      <th>number_exports</th>\n",
       "    </tr>\n",
       "  </thead>\n",
       "  <tbody>\n",
       "    <tr>\n",
       "      <th>34</th>\n",
       "      <td>China</td>\n",
       "      <td>Mexico</td>\n",
       "      <td>Air</td>\n",
       "      <td>83.17%</td>\n",
       "      <td>12250000000</td>\n",
       "      <td>330</td>\n",
       "    </tr>\n",
       "    <tr>\n",
       "      <th>134</th>\n",
       "      <td>South Korea</td>\n",
       "      <td>Vietnam</td>\n",
       "      <td>Sea</td>\n",
       "      <td>78.07%</td>\n",
       "      <td>6877007000</td>\n",
       "      <td>497</td>\n",
       "    </tr>\n",
       "    <tr>\n",
       "      <th>25</th>\n",
       "      <td>Canada</td>\n",
       "      <td>Mexico</td>\n",
       "      <td>Rail</td>\n",
       "      <td>60.70%</td>\n",
       "      <td>8450000000</td>\n",
       "      <td>261</td>\n",
       "    </tr>\n",
       "    <tr>\n",
       "      <th>108</th>\n",
       "      <td>Netherlands</td>\n",
       "      <td>Belgium</td>\n",
       "      <td>Road</td>\n",
       "      <td>50.78%</td>\n",
       "      <td>3230094000</td>\n",
       "      <td>374</td>\n",
       "    </tr>\n",
       "    <tr>\n",
       "      <th>154</th>\n",
       "      <td>USA</td>\n",
       "      <td>Netherlands</td>\n",
       "      <td>Sea</td>\n",
       "      <td>48.06%</td>\n",
       "      <td>1032187000</td>\n",
       "      <td>436</td>\n",
       "    </tr>\n",
       "    <tr>\n",
       "      <th>131</th>\n",
       "      <td>South Korea</td>\n",
       "      <td>Japan</td>\n",
       "      <td>Sea</td>\n",
       "      <td>46.78%</td>\n",
       "      <td>4594000000</td>\n",
       "      <td>279</td>\n",
       "    </tr>\n",
       "    <tr>\n",
       "      <th>86</th>\n",
       "      <td>Japan</td>\n",
       "      <td>Brazil</td>\n",
       "      <td>Sea</td>\n",
       "      <td>44.49%</td>\n",
       "      <td>3368155000</td>\n",
       "      <td>306</td>\n",
       "    </tr>\n",
       "    <tr>\n",
       "      <th>57</th>\n",
       "      <td>Germany</td>\n",
       "      <td>France</td>\n",
       "      <td>Road</td>\n",
       "      <td>41.89%</td>\n",
       "      <td>2902214000</td>\n",
       "      <td>299</td>\n",
       "    </tr>\n",
       "    <tr>\n",
       "      <th>52</th>\n",
       "      <td>France</td>\n",
       "      <td>United Kingdom</td>\n",
       "      <td>Sea</td>\n",
       "      <td>36.87%</td>\n",
       "      <td>5427000000</td>\n",
       "      <td>147</td>\n",
       "    </tr>\n",
       "    <tr>\n",
       "      <th>152</th>\n",
       "      <td>USA</td>\n",
       "      <td>Mexico</td>\n",
       "      <td>Rail</td>\n",
       "      <td>35.68%</td>\n",
       "      <td>4370000000</td>\n",
       "      <td>178</td>\n",
       "    </tr>\n",
       "  </tbody>\n",
       "</table>\n",
       "</div>"
      ],
      "text/plain": [
       "          origin     destination transport_mode   score  total_value  \\\n",
       "34         China          Mexico            Air  83.17%  12250000000   \n",
       "134  South Korea         Vietnam            Sea  78.07%   6877007000   \n",
       "25        Canada          Mexico           Rail  60.70%   8450000000   \n",
       "108  Netherlands         Belgium           Road  50.78%   3230094000   \n",
       "154          USA     Netherlands            Sea  48.06%   1032187000   \n",
       "131  South Korea           Japan            Sea  46.78%   4594000000   \n",
       "86         Japan          Brazil            Sea  44.49%   3368155000   \n",
       "57       Germany          France           Road  41.89%   2902214000   \n",
       "52        France  United Kingdom            Sea  36.87%   5427000000   \n",
       "152          USA          Mexico           Rail  35.68%   4370000000   \n",
       "\n",
       "     number_exports  \n",
       "34              330  \n",
       "134             497  \n",
       "25              261  \n",
       "108             374  \n",
       "154             436  \n",
       "131             279  \n",
       "86              306  \n",
       "57              299  \n",
       "52              147  \n",
       "152             178  "
      ]
     },
     "execution_count": 42,
     "metadata": {},
     "output_type": "execute_result"
    }
   ],
   "source": [
    "top_exports"
   ]
  },
  {
   "cell_type": "markdown",
   "id": "76baad4e",
   "metadata": {},
   "source": [
    "## 2. Medios de transporte utilizados"
   ]
  },
  {
   "cell_type": "markdown",
   "id": "2604227d",
   "metadata": {},
   "source": [
    "### Transporte en importaciones"
   ]
  },
  {
   "cell_type": "code",
   "execution_count": 43,
   "id": "4920dc67",
   "metadata": {},
   "outputs": [
    {
     "data": {
      "text/html": [
       "<div>\n",
       "<style scoped>\n",
       "    .dataframe tbody tr th:only-of-type {\n",
       "        vertical-align: middle;\n",
       "    }\n",
       "\n",
       "    .dataframe tbody tr th {\n",
       "        vertical-align: top;\n",
       "    }\n",
       "\n",
       "    .dataframe thead th {\n",
       "        text-align: right;\n",
       "    }\n",
       "</style>\n",
       "<table border=\"1\" class=\"dataframe\">\n",
       "  <thead>\n",
       "    <tr style=\"text-align: right;\">\n",
       "      <th></th>\n",
       "      <th>transport_mode</th>\n",
       "      <th>total_value</th>\n",
       "    </tr>\n",
       "  </thead>\n",
       "  <tbody>\n",
       "    <tr>\n",
       "      <th>0</th>\n",
       "      <td>Sea</td>\n",
       "      <td>34938000000</td>\n",
       "    </tr>\n",
       "    <tr>\n",
       "      <th>1</th>\n",
       "      <td>Rail</td>\n",
       "      <td>9123000000</td>\n",
       "    </tr>\n",
       "    <tr>\n",
       "      <th>2</th>\n",
       "      <td>Road</td>\n",
       "      <td>5990000000</td>\n",
       "    </tr>\n",
       "  </tbody>\n",
       "</table>\n",
       "</div>"
      ],
      "text/plain": [
       "  transport_mode  total_value\n",
       "0            Sea  34938000000\n",
       "1           Rail   9123000000\n",
       "2           Road   5990000000"
      ]
     },
     "execution_count": 43,
     "metadata": {},
     "output_type": "execute_result"
    }
   ],
   "source": [
    "#Se cuenta el número de transacciones que se hizo para realizar importaciones por medio de transporte\n",
    "transport_import = imports.groupby('transport_mode')\n",
    "transport_import = transport_import.sum()['total_value'].sort_values(ascending=False).head(3)\n",
    "transport_import.reset_index()"
   ]
  },
  {
   "cell_type": "markdown",
   "id": "b2d8ddbe",
   "metadata": {},
   "source": [
    "#### Transporte en importaciones por año"
   ]
  },
  {
   "cell_type": "code",
   "execution_count": 44,
   "id": "b94cf900",
   "metadata": {},
   "outputs": [
    {
     "data": {
      "text/plain": [
       "[Text(0.5, 1.0, 'Transporte utilizado por año para importaciones')]"
      ]
     },
     "execution_count": 44,
     "metadata": {},
     "output_type": "execute_result"
    },
    {
     "data": {
      "image/png": "[encoded data removed]",
      "text/plain": [
       "<Figure size 432x288 with 1 Axes>"
      ]
     },
     "metadata": {},
     "output_type": "display_data"
    }
   ],
   "source": [
    "#Se crea un dataframe en donde se agrupan las importaciones por medio de transmporte, año, y suma de total_value\n",
    "transport_year_imports = imports.groupby(['transport_mode','year']).sum()['total_value'].reset_index()\n",
    "\n",
    "#Gráfica de transporte utilizado por año para importaciones\n",
    "custom_params = {'axes.spines.right': False, 'axes.spines.top': False}\n",
    "sb.set_theme(style='darkgrid', palette='pastel',rc=custom_params )\n",
    "sb.lineplot(x='year', y='total_value',\n",
    "            hue='transport_mode', data=transport_year_imports).set(title='Transporte utilizado por año para importaciones')"
   ]
  },
  {
   "cell_type": "code",
   "execution_count": 45,
   "id": "ac64c9b7",
   "metadata": {},
   "outputs": [
    {
     "data": {
      "text/html": [
       "<div>\n",
       "<style scoped>\n",
       "    .dataframe tbody tr th:only-of-type {\n",
       "        vertical-align: middle;\n",
       "    }\n",
       "\n",
       "    .dataframe tbody tr th {\n",
       "        vertical-align: top;\n",
       "    }\n",
       "\n",
       "    .dataframe thead th {\n",
       "        text-align: right;\n",
       "    }\n",
       "</style>\n",
       "<table border=\"1\" class=\"dataframe\">\n",
       "  <thead>\n",
       "    <tr style=\"text-align: right;\">\n",
       "      <th></th>\n",
       "      <th>transport_mode</th>\n",
       "      <th>total_value</th>\n",
       "    </tr>\n",
       "  </thead>\n",
       "  <tbody>\n",
       "    <tr>\n",
       "      <th>0</th>\n",
       "      <td>Sea</td>\n",
       "      <td>65592622000</td>\n",
       "    </tr>\n",
       "    <tr>\n",
       "      <th>1</th>\n",
       "      <td>Rail</td>\n",
       "      <td>34505043000</td>\n",
       "    </tr>\n",
       "    <tr>\n",
       "      <th>2</th>\n",
       "      <td>Air</td>\n",
       "      <td>32785147000</td>\n",
       "    </tr>\n",
       "  </tbody>\n",
       "</table>\n",
       "</div>"
      ],
      "text/plain": [
       "  transport_mode  total_value\n",
       "0            Sea  65592622000\n",
       "1           Rail  34505043000\n",
       "2            Air  32785147000"
      ]
     },
     "execution_count": 45,
     "metadata": {},
     "output_type": "execute_result"
    }
   ],
   "source": [
    "#Se cuenta el número de transacciones que se hizo para realizar exportaciones por medio de transporte\n",
    "transport_export = exports.groupby('transport_mode')\n",
    "transport_export = transport_export.sum()['total_value'].sort_values(ascending=False).head(3)\n",
    "transport_export.reset_index()"
   ]
  },
  {
   "cell_type": "markdown",
   "id": "04b02224",
   "metadata": {},
   "source": [
    "#### Transporte en exportaciones por año"
   ]
  },
  {
   "cell_type": "code",
   "execution_count": 46,
   "id": "06177b9b",
   "metadata": {},
   "outputs": [
    {
     "data": {
      "text/plain": [
       "[Text(0.5, 1.0, 'Transporte utilizado por año para exportaciones')]"
      ]
     },
     "execution_count": 46,
     "metadata": {},
     "output_type": "execute_result"
    },
    {
     "data": {
      "image/png": "[encoded data removed]",
      "text/plain": [
       "<Figure size 432x288 with 1 Axes>"
      ]
     },
     "metadata": {},
     "output_type": "display_data"
    }
   ],
   "source": [
    "#Se crea un dataframe en donde se agrupan las importaciones por medio de transmporte, año, y suma de total_value\n",
    "transport_year_exports = exports.groupby(['transport_mode','year']).sum()['total_value'].reset_index()\n",
    "\n",
    "#Gráfica de transporte utilizado por año para exportaciones\n",
    "custom_params = {'axes.spines.right': False, 'axes.spines.top': False}\n",
    "sb.set_theme(style='darkgrid', palette='husl',rc=custom_params )\n",
    "sb.lineplot(x='year', y='total_value',\n",
    "            hue='transport_mode', data=transport_year_exports).set(title='Transporte utilizado por año para exportaciones')"
   ]
  },
  {
   "cell_type": "markdown",
   "id": "66498225",
   "metadata": {},
   "source": [
    "#### Transporte en importaciones por mes en el último año 2020"
   ]
  },
  {
   "cell_type": "code",
   "execution_count": 47,
   "id": "2e8a6d81",
   "metadata": {},
   "outputs": [],
   "source": [
    "#Se agrupan los datos de importaciones por fecha, modo de transporte y total value en donde el año sea 2020\n",
    "transport_month_imports = imports[imports['year'] == 2020].groupby(['transport_mode','date']).sum()['total_value'].reset_index()\n",
    "\n",
    "#Ciclo para extraer el mes de la fecha y agragarlo como nueva columna\n",
    "for index, row in transport_month_imports.iterrows():\n",
    "  _,month,_ = row['date'].split(\"/\") #Se obtine mes del formato de fecha\n",
    "  transport_month_imports.at[index, 'month'] = month\n",
    "\n",
    "transport_month = transport_month_imports.sort_values(by='month') #Se ordenan los datos de acuerdo al mes"
   ]
  },
  {
   "cell_type": "code",
   "execution_count": 48,
   "id": "025a8b92",
   "metadata": {},
   "outputs": [
    {
     "data": {
      "text/plain": [
       "[Text(0.5, 1.0, 'Transporte utilizado por mes para importaciones en 2020')]"
      ]
     },
     "execution_count": 48,
     "metadata": {},
     "output_type": "execute_result"
    },
    {
     "data": {
      "image/png": "[encoded data removed]",
      "text/plain": [
       "<Figure size 432x288 with 1 Axes>"
      ]
     },
     "metadata": {},
     "output_type": "display_data"
    }
   ],
   "source": [
    "#Gráfica de transporte utilizado por mes para exportaciones en 2020\n",
    "custom_params = {'axes.spines.right': False, 'axes.spines.top': False}\n",
    "sb.set_theme(style='darkgrid', palette='dark',rc=custom_params )\n",
    "#el eje de x son los meses, y es total value, y se agrupan los datos de acuerdo al medio de transporte\n",
    "sb.barplot(x='month', y='total_value',\n",
    "            hue='transport_mode', data=transport_month_imports).set(title='Transporte utilizado por mes para importaciones en 2020')"
   ]
  },
  {
   "cell_type": "markdown",
   "id": "4355b870",
   "metadata": {},
   "source": [
    "#### Transporte en exportaciones por mes en el último año 2020"
   ]
  },
  {
   "cell_type": "code",
   "execution_count": 49,
   "id": "a9c1a748",
   "metadata": {},
   "outputs": [],
   "source": [
    "#Se agrupan los datos de exportaciones por fecha, modo de transporte y total value en donde el año sea 2020\n",
    "transport_month_exports = exports[exports['year'] == 2020].groupby(['transport_mode','date']).sum()['total_value'].reset_index()\n",
    "\n",
    "#Ciclo para extraer el mes de la fecha y agragarlo como nueva columna\n",
    "for index, row in transport_month_exports.iterrows():\n",
    "  _,month,_ = row['date'].split(\"/\") #Se obtine mes del formato de fecha\n",
    "  transport_month_exports.at[index, 'month'] = month #Se ordenan los datos de acuerdo al mes\n",
    "\n",
    "transport_month = transport_month_exports.sort_values(by='month') #Se ordenan los datos de acuerdo al mes"
   ]
  },
  {
   "cell_type": "code",
   "execution_count": 50,
   "id": "ffd07fc5",
   "metadata": {},
   "outputs": [
    {
     "data": {
      "text/plain": [
       "[Text(0.5, 1.0, 'Transporte utilizado por mes para exportaciones en 2020')]"
      ]
     },
     "execution_count": 50,
     "metadata": {},
     "output_type": "execute_result"
    },
    {
     "data": {
      "image/png": "[encoded data removed]",
      "text/plain": [
       "<Figure size 432x288 with 1 Axes>"
      ]
     },
     "metadata": {},
     "output_type": "display_data"
    }
   ],
   "source": [
    "#Gráfica de transporte utilizado por mes para exportaciones en 2020\n",
    "custom_params = {'axes.spines.right': False, 'axes.spines.top': False}\n",
    "sb.set_theme(style='darkgrid', palette='dark',rc=custom_params )\n",
    "#el eje de x son los meses, y es total value, y se agrupan los datos de acuerdo al medio de transporte\n",
    "sb.barplot(x='month', y='total_value',\n",
    "            hue='transport_mode', data=transport_month_exports).set(title='Transporte utilizado por mes para exportaciones en 2020')"
   ]
  },
  {
   "cell_type": "markdown",
   "id": "b524e840",
   "metadata": {},
   "source": [
    "## 3. Valor total de importaciones y exportaciones"
   ]
  },
  {
   "cell_type": "code",
   "execution_count": 51,
   "id": "2e9df857",
   "metadata": {},
   "outputs": [],
   "source": [
    "#Se agrupan los datos de acuerdo al origen de la exportación\n",
    "value_80_exports = exports.groupby('origin').sum() \n",
    "#Se evalua cual es el producto más exportado por país de origen al calcular la moda\n",
    "top_prod_exports = exports.groupby('origin')['product'].agg(pd.Series.mode)\n",
    "value_80_exports['top_producto'] = top_prod_exports #Se agrega la moda como mueva columna\n",
    "total_value = value_80_exports['total_value'].sum() #Se calcula el valor total de las exportaciones\n",
    "value_80_exports.drop('register_id',axis=1,inplace=True) #Se borra la columna de ids\n",
    "value_80_exports.drop('year',axis=1,inplace=True) #Se borra la columna de años\n",
    "#Se crea una columna del porcentaje de valor generado por el país correspondiente \n",
    "value_80_exports['porcentaje'] = (value_80_exports['total_value']/total_value)*100 \n",
    "value_80_exports = value_80_exports.sort_values('porcentaje', ascending=False) #Se ordena la lista  de acuerdo al porcentaje \n",
    "acum_value = value_80_exports.cumsum()['porcentaje'] #se acumula el porcentaje en la variable acum_value\n",
    "value_80_exports['porcentaje_acum'] = acum_value #Se agrega el valor acum_value a una nueva columna\n",
    "# el dataframe se filtra para que solo contenga las filas en donde el porcentaje acumulado sea menor o igual a 80\n",
    "value_80_exports = value_80_exports[value_80_exports['porcentaje_acum']<=80] \n",
    "value_80_exports = value_80_exports.reset_index() "
   ]
  },
  {
   "cell_type": "code",
   "execution_count": 52,
   "id": "2ea7248b",
   "metadata": {},
   "outputs": [
    {
     "data": {
      "text/html": [
       "<div>\n",
       "<style scoped>\n",
       "    .dataframe tbody tr th:only-of-type {\n",
       "        vertical-align: middle;\n",
       "    }\n",
       "\n",
       "    .dataframe tbody tr th {\n",
       "        vertical-align: top;\n",
       "    }\n",
       "\n",
       "    .dataframe thead th {\n",
       "        text-align: right;\n",
       "    }\n",
       "</style>\n",
       "<table border=\"1\" class=\"dataframe\">\n",
       "  <thead>\n",
       "    <tr style=\"text-align: right;\">\n",
       "      <th></th>\n",
       "      <th>origin</th>\n",
       "      <th>total_value</th>\n",
       "      <th>top_producto</th>\n",
       "      <th>porcentaje</th>\n",
       "      <th>porcentaje_acum</th>\n",
       "    </tr>\n",
       "  </thead>\n",
       "  <tbody>\n",
       "    <tr>\n",
       "      <th>0</th>\n",
       "      <td>China</td>\n",
       "      <td>32977046000</td>\n",
       "      <td>Computers</td>\n",
       "      <td>20.589640</td>\n",
       "      <td>20.589640</td>\n",
       "    </tr>\n",
       "    <tr>\n",
       "      <th>1</th>\n",
       "      <td>France</td>\n",
       "      <td>18614332000</td>\n",
       "      <td>Cosmetics</td>\n",
       "      <td>11.622096</td>\n",
       "      <td>32.211736</td>\n",
       "    </tr>\n",
       "    <tr>\n",
       "      <th>2</th>\n",
       "      <td>USA</td>\n",
       "      <td>18355306000</td>\n",
       "      <td>Aerospace Parts</td>\n",
       "      <td>11.460370</td>\n",
       "      <td>43.672105</td>\n",
       "    </tr>\n",
       "    <tr>\n",
       "      <th>3</th>\n",
       "      <td>South Korea</td>\n",
       "      <td>14621146000</td>\n",
       "      <td>Integrated circuits</td>\n",
       "      <td>9.128899</td>\n",
       "      <td>52.801004</td>\n",
       "    </tr>\n",
       "    <tr>\n",
       "      <th>4</th>\n",
       "      <td>Russia</td>\n",
       "      <td>13223000000</td>\n",
       "      <td>Crude Petroleum</td>\n",
       "      <td>8.255949</td>\n",
       "      <td>61.056953</td>\n",
       "    </tr>\n",
       "    <tr>\n",
       "      <th>5</th>\n",
       "      <td>Japan</td>\n",
       "      <td>11948976000</td>\n",
       "      <td>Cars</td>\n",
       "      <td>7.460496</td>\n",
       "      <td>68.517449</td>\n",
       "    </tr>\n",
       "    <tr>\n",
       "      <th>6</th>\n",
       "      <td>Germany</td>\n",
       "      <td>11343233000</td>\n",
       "      <td>Cars</td>\n",
       "      <td>7.082292</td>\n",
       "      <td>75.599741</td>\n",
       "    </tr>\n",
       "  </tbody>\n",
       "</table>\n",
       "</div>"
      ],
      "text/plain": [
       "        origin  total_value         top_producto  porcentaje  porcentaje_acum\n",
       "0        China  32977046000            Computers   20.589640        20.589640\n",
       "1       France  18614332000            Cosmetics   11.622096        32.211736\n",
       "2          USA  18355306000      Aerospace Parts   11.460370        43.672105\n",
       "3  South Korea  14621146000  Integrated circuits    9.128899        52.801004\n",
       "4       Russia  13223000000      Crude Petroleum    8.255949        61.056953\n",
       "5        Japan  11948976000                 Cars    7.460496        68.517449\n",
       "6      Germany  11343233000                 Cars    7.082292        75.599741"
      ]
     },
     "execution_count": 52,
     "metadata": {},
     "output_type": "execute_result"
    }
   ],
   "source": [
    "value_80_exports"
   ]
  },
  {
   "cell_type": "code",
   "execution_count": 53,
   "id": "0446cc22",
   "metadata": {},
   "outputs": [],
   "source": [
    "#Se agrupan los datos de acuerdo al destino de la importación\n",
    "value_80_imports = imports.groupby('destination').sum()\n",
    "#Se evalua cual es el producto más importado por país de origen al calcular la moda\n",
    "top_prod_imports = imports.groupby('destination')['product'].agg(pd.Series.mode) \n",
    "value_80_imports['top_producto'] = top_prod_imports #Se agrega la moda como mueva columna\n",
    "total_value = value_80_imports['total_value'].sum() #Se calcula el valor total de las importaciones\n",
    "value_80_imports.drop('register_id',axis=1,inplace=True) #Se borra la columna de ids\n",
    "value_80_imports.drop('year',axis=1,inplace=True)#Se borra la columna de años\n",
    "#Se crea una columna del porcentaje de valor generado por el país correspondiente \n",
    "value_80_imports['porcentaje'] = (value_80_imports['total_value']/total_value)*100\n",
    "value_80_imports = value_80_imports.sort_values('porcentaje', ascending=False) #Se ordena la lista  de acuerdo al porcentaje \n",
    "acum_value = value_80_imports.cumsum()['porcentaje'] #se acumula el porcentaje en la variable acum_value\n",
    "value_80_imports['porcentaje_acum'] = acum_value  #Se agrega el valor acum_value a una nueva columna\n",
    "# el dataframe se filtra para que solo contenga las filas en donde el porcentaje acumulado sea menor o igual a 80\n",
    "value_80_imports = value_80_imports[value_80_imports['porcentaje_acum']<=80]\n",
    "value_80_imports = value_80_imports.reset_index()"
   ]
  },
  {
   "cell_type": "code",
   "execution_count": 54,
   "id": "fe9b1ff5",
   "metadata": {},
   "outputs": [
    {
     "data": {
      "text/html": [
       "<div>\n",
       "<style scoped>\n",
       "    .dataframe tbody tr th:only-of-type {\n",
       "        vertical-align: middle;\n",
       "    }\n",
       "\n",
       "    .dataframe tbody tr th {\n",
       "        vertical-align: top;\n",
       "    }\n",
       "\n",
       "    .dataframe thead th {\n",
       "        text-align: right;\n",
       "    }\n",
       "</style>\n",
       "<table border=\"1\" class=\"dataframe\">\n",
       "  <thead>\n",
       "    <tr style=\"text-align: right;\">\n",
       "      <th></th>\n",
       "      <th>destination</th>\n",
       "      <th>total_value</th>\n",
       "      <th>top_producto</th>\n",
       "      <th>porcentaje</th>\n",
       "      <th>porcentaje_acum</th>\n",
       "    </tr>\n",
       "  </thead>\n",
       "  <tbody>\n",
       "    <tr>\n",
       "      <th>0</th>\n",
       "      <td>Thailand</td>\n",
       "      <td>13745000000</td>\n",
       "      <td>Integrated circuits</td>\n",
       "      <td>24.753278</td>\n",
       "      <td>24.753278</td>\n",
       "    </tr>\n",
       "    <tr>\n",
       "      <th>1</th>\n",
       "      <td>Mexico</td>\n",
       "      <td>8894000000</td>\n",
       "      <td>Cars</td>\n",
       "      <td>16.017145</td>\n",
       "      <td>40.770422</td>\n",
       "    </tr>\n",
       "    <tr>\n",
       "      <th>2</th>\n",
       "      <td>United Arab Emirates</td>\n",
       "      <td>7848000000</td>\n",
       "      <td>Computers</td>\n",
       "      <td>14.133410</td>\n",
       "      <td>54.903832</td>\n",
       "    </tr>\n",
       "    <tr>\n",
       "      <th>3</th>\n",
       "      <td>Japan</td>\n",
       "      <td>5828000000</td>\n",
       "      <td>Machinery and electronics</td>\n",
       "      <td>10.495606</td>\n",
       "      <td>65.399438</td>\n",
       "    </tr>\n",
       "    <tr>\n",
       "      <th>4</th>\n",
       "      <td>Germany</td>\n",
       "      <td>5109000000</td>\n",
       "      <td>Machinery and electronics</td>\n",
       "      <td>9.200764</td>\n",
       "      <td>74.600202</td>\n",
       "    </tr>\n",
       "  </tbody>\n",
       "</table>\n",
       "</div>"
      ],
      "text/plain": [
       "            destination  total_value               top_producto  porcentaje  \\\n",
       "0              Thailand  13745000000        Integrated circuits   24.753278   \n",
       "1                Mexico   8894000000                       Cars   16.017145   \n",
       "2  United Arab Emirates   7848000000                  Computers   14.133410   \n",
       "3                 Japan   5828000000  Machinery and electronics   10.495606   \n",
       "4               Germany   5109000000  Machinery and electronics    9.200764   \n",
       "\n",
       "   porcentaje_acum  \n",
       "0        24.753278  \n",
       "1        40.770422  \n",
       "2        54.903832  \n",
       "3        65.399438  \n",
       "4        74.600202  "
      ]
     },
     "execution_count": 54,
     "metadata": {},
     "output_type": "execute_result"
    }
   ],
   "source": [
    "value_80_imports"
   ]
  }
 ],
 "metadata": {
  "kernelspec": {
   "display_name": "Python 3 (ipykernel)",
   "language": "python",
   "name": "python3"
  },
  "language_info": {
   "codemirror_mode": {
    "name": "ipython",
    "version": 3
   },
   "file_extension": ".py",
   "mimetype": "text/x-python",
   "name": "python",
   "nbconvert_exporter": "python",
   "pygments_lexer": "ipython3",
   "version": "3.9.7"
  }
 },
 "nbformat": 4,
 "nbformat_minor": 5
}
